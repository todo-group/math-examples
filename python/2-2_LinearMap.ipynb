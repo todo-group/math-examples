{
 "cells": [
  {
   "cell_type": "code",
   "execution_count": 1,
   "metadata": {},
   "outputs": [],
   "source": [
    "%matplotlib inline\n",
    "import numpy\n",
    "import matplotlib.pyplot as pyplot"
   ]
  },
  {
   "cell_type": "markdown",
   "metadata": {},
   "source": [
    "東京大学数理・データサイエンスコンソーシアム 社会人向け講座 2019年秋\n",
    "\n",
    "# 解析・線形代数入門 〜データサイエンスのための〜\n",
    "\n",
    "# 2-2 線形写像\n",
    "\n",
    "##  写像とは\n",
    "* 写像(map): 何かを入れると何かが出てくる ＝ 関数と同じもの\n",
    "* ここでは、2次元のベクトルを入れると2次元のベクトルが出てくる以下のような写像を考える<br>\n",
    "  $x' =  ax + by$ <br>\n",
    "  $y' = cx + dy$\n",
    "* この写像は、行列 $\\displaystyle A = \\begin{bmatrix} a & b \\\\ c & d \\end{bmatrix}$、ベクトル $\\displaystyle \\vec{x} = \\begin{bmatrix} x \\\\ y \\end{bmatrix}$、$\\displaystyle \\vec{x}' = \\begin{bmatrix} x' \\\\ y' \\end{bmatrix}$ を使うと<br>\n",
    "   $\\displaystyle \\vec{x}' = A \\vec{x}$<br>\n",
    "   ともかける\n",
    "* 実数の場合の比例関係$x' = ax$の自然な拡張になっている"
   ]
  },
  {
   "cell_type": "markdown",
   "metadata": {},
   "source": [
    "## 線形性\n",
    "* $f(\\vec{x}) = A \\vec{x}$とおけば<br>\n",
    "   $f(\\vec{x}_1 + \\vec{x}_2) = f(\\vec{x}_1) + f(\\vec{x}_2)$<br>\n",
    "   $f(k\\vec{x}) = kf(\\vec{x})$<br>\n",
    "  あるいは、まとめて<br>\n",
    "     $f(k_1 \\vec{x}_1 + k_2 \\vec{x}_2) = k_1 f(\\vec{x}_1) + k_2 f(\\vec{x}_2)$<br>\n",
    "  という性質が成り立っていることが分かる\n",
    "* また原点は原点に(零ベクトルは零ベクトルに)\n",
    "* この性質を「線形性」という\n",
    "* 線形性が成り立つ写像を「線形写像」、「線形変換」あるいは「1次変換」という"
   ]
  },
  {
   "cell_type": "markdown",
   "metadata": {},
   "source": [
    "## 幾何学的意味\n",
    "\n",
    "* 2次元の線形写像は、2次元平面上のある点をある点に移す\n",
    "* 例：以下の11点からなる図形を考える"
   ]
  },
  {
   "cell_type": "code",
   "execution_count": 2,
   "metadata": {},
   "outputs": [
    {
     "name": "stdout",
     "output_type": "stream",
     "text": [
      "[[-6 -6 -8  0  8  6  6 -3 -3  0  0 -6]\n",
      " [-7  2  0  8  0  2 -7 -7 -2 -2 -7 -7]]\n"
     ]
    },
    {
     "data": {
      "image/png": "[encoded data removed]",
      "text/plain": [
       "<Figure size 432x288 with 1 Axes>"
      ]
     },
     "metadata": {
      "needs_background": "light"
     },
     "output_type": "display_data"
    }
   ],
   "source": [
    "H = numpy.array([[-6, -6, -8, 0, 8, 6, 6, -3, -3, 0, 0, -6],\n",
    "                           [-7, 2, 0, 8, 0, 2, -7, -7, -2, -2, -7, -7]]);\n",
    "print(H);\n",
    "pyplot.plot(H[0,:], H[1,:], \"o-\"); # H[0,:] は1行目(x座標)だけを、H[1,:] は2行目(y座標)だけを取り出す\n",
    "pyplot.gca().set_aspect('equal'); # アスペクト比を1に\n",
    "pyplot.grid(which=\"major\");"
   ]
  },
  {
   "cell_type": "markdown",
   "metadata": {},
   "source": [
    "* $\\displaystyle A_x = \\begin{bmatrix} 1 & 0 \\\\ 0 & -1 \\end{bmatrix}$ による変換を考える\n",
    "* Ax @ H を計算すると、それぞれの列ベクトルを Ax で変換したものがそれぞれの列に入った行列ができる"
   ]
  },
  {
   "cell_type": "code",
   "execution_count": 3,
   "metadata": {},
   "outputs": [
    {
     "name": "stdout",
     "output_type": "stream",
     "text": [
      "[[-6 -6 -8  0  8  6  6 -3 -3  0  0 -6]\n",
      " [ 7 -2  0 -8  0 -2  7  7  2  2  7  7]]\n"
     ]
    },
    {
     "data": {
      "image/png": "[encoded data removed]",
      "text/plain": [
       "<Figure size 432x288 with 1 Axes>"
      ]
     },
     "metadata": {
      "needs_background": "light"
     },
     "output_type": "display_data"
    }
   ],
   "source": [
    "Ax = numpy.array([[1, 0], [0, -1]]);\n",
    "C = Ax @ H;\n",
    "print(C);\n",
    "pyplot.plot(C[0,:], C[1,:], \"o-\");\n",
    "pyplot.gca().set_aspect('equal');\n",
    "pyplot.grid(which=\"major\");"
   ]
  },
  {
   "cell_type": "markdown",
   "metadata": {},
   "source": [
    "## 基本的な線形写像\n",
    "\n",
    "* 恒等変換：$\\displaystyle E = \\begin{bmatrix} 1 & 0 \\\\ 0 & 1 \\end{bmatrix}$\n",
    "* $x$軸に対する反転：$\\displaystyle A_x = \\begin{bmatrix} 1 & 0 \\\\ 0 & -1 \\end{bmatrix}$\n",
    "* $y$軸に対する反転：$\\displaystyle A_x = \\begin{bmatrix} -1 & 0 \\\\ 0 & 1 \\end{bmatrix}$\n",
    "* 原点に対する反転：$\\displaystyle A_0 = \\begin{bmatrix} -1 & 0 \\\\ 0 & -1 \\end{bmatrix}$\n",
    "* $E, A_x, A_y, A_0$は対称行列(転置行列が自身と一致)\n",
    "* $A_x A_y = A_y A_x = A_O$ ($A_x$と$A_y$は可換)\n",
    "\n",
    "* 原点まわりの90度反時計回転：$\\displaystyle R_{\\pi/2} = \\begin{bmatrix} 0 & -1 \\\\ 1 & 0 \\end{bmatrix}$\n",
    "* $A_x$と$R_{\\pi/2}$は可換ではない"
   ]
  },
  {
   "cell_type": "markdown",
   "metadata": {},
   "source": [
    "## 線形写像の合成\n",
    "\n",
    "* 線形写像の合成は行列の積で表される (そうなるように行列の積を定義した)\n",
    "* 変換の順番 右から左に\n",
    "* 変換の順番は重要。一般に$AB\\vec{x} \\ne BA\\vec{x}$(行列の非可換性$AB \\ne BA$)"
   ]
  },
  {
   "cell_type": "code",
   "execution_count": 4,
   "metadata": {},
   "outputs": [
    {
     "name": "stdout",
     "output_type": "stream",
     "text": [
      "[[ 6  6  8  0 -8 -6 -6  3  3  0  0  6]\n",
      " [-7  2  0  8  0  2 -7 -7 -2 -2 -7 -7]]\n"
     ]
    },
    {
     "data": {
      "image/png": "[encoded data removed]",
      "text/plain": [
       "<Figure size 432x288 with 1 Axes>"
      ]
     },
     "metadata": {
      "needs_background": "light"
     },
     "output_type": "display_data"
    }
   ],
   "source": [
    "Ay = numpy.array([[-1, 0], [0, 1]]);\n",
    "C = Ay @ H;\n",
    "print(C);\n",
    "pyplot.plot(C[0,:], C[1,:], \"o-\");\n",
    "pyplot.gca().set_aspect('equal');\n",
    "pyplot.grid(which=\"major\");"
   ]
  },
  {
   "cell_type": "code",
   "execution_count": 5,
   "metadata": {
    "scrolled": true
   },
   "outputs": [
    {
     "name": "stdout",
     "output_type": "stream",
     "text": [
      "[[ 6  6  8  0 -8 -6 -6  3  3  0  0  6]\n",
      " [ 7 -2  0 -8  0 -2  7  7  2  2  7  7]]\n"
     ]
    },
    {
     "data": {
      "image/png": "[encoded data removed]",
      "text/plain": [
       "<Figure size 432x288 with 1 Axes>"
      ]
     },
     "metadata": {
      "needs_background": "light"
     },
     "output_type": "display_data"
    }
   ],
   "source": [
    "A0 = numpy.array([[-1, 0], [0, -1]]);\n",
    "C = A0 @ H;\n",
    "print(C);\n",
    "pyplot.plot(C[0,:], C[1,:], \"o-\");\n",
    "pyplot.gca().set_aspect('equal');\n",
    "pyplot.grid(which=\"major\");"
   ]
  },
  {
   "cell_type": "code",
   "execution_count": 6,
   "metadata": {
    "scrolled": true
   },
   "outputs": [
    {
     "name": "stdout",
     "output_type": "stream",
     "text": [
      "[[ 6  6  8  0 -8 -6 -6  3  3  0  0  6]\n",
      " [ 7 -2  0 -8  0 -2  7  7  2  2  7  7]]\n"
     ]
    },
    {
     "data": {
      "image/png": "[encoded data removed]",
      "text/plain": [
       "<Figure size 432x288 with 1 Axes>"
      ]
     },
     "metadata": {
      "needs_background": "light"
     },
     "output_type": "display_data"
    }
   ],
   "source": [
    "C = Ax @ Ay @ H;\n",
    "print(C);\n",
    "pyplot.plot(C[0,:], C[1,:], \"o-\");\n",
    "pyplot.gca().set_aspect('equal');\n",
    "pyplot.grid(which=\"major\");"
   ]
  },
  {
   "cell_type": "code",
   "execution_count": 7,
   "metadata": {
    "scrolled": true
   },
   "outputs": [
    {
     "name": "stdout",
     "output_type": "stream",
     "text": [
      "[[ 6  6  8  0 -8 -6 -6  3  3  0  0  6]\n",
      " [ 7 -2  0 -8  0 -2  7  7  2  2  7  7]]\n"
     ]
    },
    {
     "data": {
      "image/png": "[encoded data removed]",
      "text/plain": [
       "<Figure size 432x288 with 1 Axes>"
      ]
     },
     "metadata": {
      "needs_background": "light"
     },
     "output_type": "display_data"
    }
   ],
   "source": [
    "C = Ay @ Ax @ H;\n",
    "print(C);\n",
    "pyplot.plot(C[0,:], C[1,:], \"o-\");\n",
    "pyplot.gca().set_aspect('equal');\n",
    "pyplot.grid(which=\"major\");"
   ]
  },
  {
   "cell_type": "code",
   "execution_count": 8,
   "metadata": {},
   "outputs": [
    {
     "name": "stdout",
     "output_type": "stream",
     "text": [
      "[[ 7 -2  0 -8  0 -2  7  7  2  2  7  7]\n",
      " [-6 -6 -8  0  8  6  6 -3 -3  0  0 -6]]\n"
     ]
    },
    {
     "data": {
      "image/png": "[encoded data removed]",
      "text/plain": [
       "<Figure size 432x288 with 1 Axes>"
      ]
     },
     "metadata": {
      "needs_background": "light"
     },
     "output_type": "display_data"
    }
   ],
   "source": [
    "Rp2 = numpy.array([[0, -1], [1, 0]]);\n",
    "C = Rp2 @ H;\n",
    "print(C);\n",
    "pyplot.plot(C[0,:], C[1,:], \"o-\");\n",
    "pyplot.gca().set_aspect('equal');\n",
    "pyplot.grid(which=\"major\");"
   ]
  },
  {
   "cell_type": "code",
   "execution_count": 9,
   "metadata": {},
   "outputs": [
    {
     "name": "stdout",
     "output_type": "stream",
     "text": [
      "[[ 7 -2  0 -8  0 -2  7  7  2  2  7  7]\n",
      " [ 6  6  8  0 -8 -6 -6  3  3  0  0  6]]\n"
     ]
    },
    {
     "data": {
      "image/png": "[encoded data removed]",
      "text/plain": [
       "<Figure size 432x288 with 1 Axes>"
      ]
     },
     "metadata": {
      "needs_background": "light"
     },
     "output_type": "display_data"
    }
   ],
   "source": [
    "C = Ax @ Rp2 @ H;\n",
    "print(C);\n",
    "pyplot.plot(C[0,:], C[1,:], \"o-\");\n",
    "pyplot.gca().set_aspect('equal');\n",
    "pyplot.grid(which=\"major\");"
   ]
  },
  {
   "cell_type": "code",
   "execution_count": 10,
   "metadata": {
    "scrolled": true
   },
   "outputs": [
    {
     "name": "stdout",
     "output_type": "stream",
     "text": [
      "[[-7  2  0  8  0  2 -7 -7 -2 -2 -7 -7]\n",
      " [-6 -6 -8  0  8  6  6 -3 -3  0  0 -6]]\n"
     ]
    },
    {
     "data": {
      "image/png": "[encoded data removed]",
      "text/plain": [
       "<Figure size 432x288 with 1 Axes>"
      ]
     },
     "metadata": {
      "needs_background": "light"
     },
     "output_type": "display_data"
    }
   ],
   "source": [
    "C = Rp2 @ Ax @ H;\n",
    "print(C);\n",
    "pyplot.plot(C[0,:], C[1,:], \"o-\");\n",
    "pyplot.gca().set_aspect('equal');\n",
    "pyplot.grid(which=\"major\");"
   ]
  },
  {
   "cell_type": "markdown",
   "metadata": {},
   "source": [
    "## 直交行列\n",
    "\n",
    "* ここまでの行列はすべて転置が逆行列になっている\n",
    "* 「直交行列」と呼ぶ\n",
    "* 直交行列は行列式が1または-1\n",
    "* 図形の変換前と変換後の面積が保存\n",
    "* 直交行列による線形写像を直交変換と呼ぶ\n",
    "* なぜ、直交変換と呼ぶか ⇒ 変換前に直角をなしていた2つのベクトルは変換後も直角"
   ]
  },
  {
   "cell_type": "markdown",
   "metadata": {},
   "source": [
    "## 一般の線形写像\n",
    "\n",
    "* 一般の行列による線形写像は角度も面積も保存しない\n",
    "* 例1：$\\displaystyle A = \\begin{bmatrix} 1 & 1 \\\\ 2 & 4 \\end{bmatrix}$"
   ]
  },
  {
   "cell_type": "code",
   "execution_count": 11,
   "metadata": {
    "scrolled": false
   },
   "outputs": [
    {
     "name": "stdout",
     "output_type": "stream",
     "text": [
      "[[-13  -4  -8   8   8   8  -1 -10  -5  -2  -7 -13]\n",
      " [-40  -4 -16  32  16  20 -16 -34 -14  -8 -28 -40]]\n"
     ]
    },
    {
     "data": {
      "image/png": "[encoded data removed]",
      "text/plain": [
       "<Figure size 432x288 with 1 Axes>"
      ]
     },
     "metadata": {
      "needs_background": "light"
     },
     "output_type": "display_data"
    }
   ],
   "source": [
    "A = numpy.array([[1, 1], [2, 4]]);\n",
    "C = A @ H;\n",
    "print(C);\n",
    "pyplot.plot(C[0,:], C[1,:], \"o-\");\n",
    "pyplot.gca().set_aspect('equal');\n",
    "pyplot.grid(which=\"major\");"
   ]
  },
  {
   "cell_type": "markdown",
   "metadata": {},
   "source": [
    "* 例2：$\\displaystyle A = \\begin{bmatrix} 2 & 0 \\\\ 0 & 0.5 \\end{bmatrix}$\n",
    "  * $x$軸方向に2倍、$y$軸方向に0.5倍する。全体の面積は保存されるが、角度は保存されない"
   ]
  },
  {
   "cell_type": "code",
   "execution_count": 12,
   "metadata": {
    "scrolled": true
   },
   "outputs": [
    {
     "name": "stdout",
     "output_type": "stream",
     "text": [
      "[[-12.  -12.  -16.    0.   16.   12.   12.   -6.   -6.    0.    0.  -12. ]\n",
      " [ -3.5   1.    0.    4.    0.    1.   -3.5  -3.5  -1.   -1.   -3.5  -3.5]]\n"
     ]
    },
    {
     "data": {
      "image/png": "[encoded data removed]",
      "text/plain": [
       "<Figure size 432x288 with 1 Axes>"
      ]
     },
     "metadata": {
      "needs_background": "light"
     },
     "output_type": "display_data"
    }
   ],
   "source": [
    "A = numpy.array([[2, 0], [0, 0.5]]);\n",
    "C = A @ H;\n",
    "print(C);\n",
    "pyplot.plot(C[0,:], C[1,:], \"o-\");\n",
    "pyplot.gca().set_aspect('equal');\n",
    "pyplot.grid(which=\"major\");"
   ]
  },
  {
   "cell_type": "markdown",
   "metadata": {},
   "source": [
    "* 例3：$\\displaystyle A = \\begin{bmatrix} 1 & 2 \\\\ 2 & 4 \\end{bmatrix}$\n",
    "  * 行列式が零の場合\n",
    "  * 全ての点が一直線上に"
   ]
  },
  {
   "cell_type": "code",
   "execution_count": 13,
   "metadata": {
    "scrolled": true
   },
   "outputs": [
    {
     "name": "stdout",
     "output_type": "stream",
     "text": [
      "[[-20  -2  -8  16   8  10  -8 -17  -7  -4 -14 -20]\n",
      " [-40  -4 -16  32  16  20 -16 -34 -14  -8 -28 -40]]\n"
     ]
    },
    {
     "data": {
      "image/png": "[encoded data removed]",
      "text/plain": [
       "<Figure size 432x288 with 1 Axes>"
      ]
     },
     "metadata": {
      "needs_background": "light"
     },
     "output_type": "display_data"
    }
   ],
   "source": [
    "A = numpy.array([[1, 2], [2, 4]]);\n",
    "C = A @ H;\n",
    "print(C);\n",
    "pyplot.plot(C[0,:], C[1,:], \"o-\");\n",
    "pyplot.gca().set_aspect('equal');\n",
    "pyplot.grid(which=\"major\");"
   ]
  },
  {
   "cell_type": "markdown",
   "metadata": {},
   "source": [
    "## 線形写像と行列式\n",
    "\n",
    "* 変換後の図形の面積は「行列式の絶対値」倍になる\n",
    "* 行列式が負の場合、図形は裏返る\n",
    "* 一般の$n \\times n$行列の場合\n",
    "  * $n$次元空間の点から$n$次元空間の点への写像を与える\n",
    "* 行列の行列式が零の場合\n",
    "  * 変換後の点は $m$ 次元 ($m<n$)の点や面の上に乗る\n",
    "  * $m$ を行列の階数(rank)と呼ぶ"
   ]
  },
  {
   "cell_type": "code",
   "execution_count": null,
   "metadata": {},
   "outputs": [],
   "source": []
  }
 ],
 "metadata": {
  "kernelspec": {
   "display_name": "Python 3",
   "language": "python",
   "name": "python3"
  },
  "language_info": {
   "codemirror_mode": {
    "name": "ipython",
    "version": 3
   },
   "file_extension": ".py",
   "mimetype": "text/x-python",
   "name": "python",
   "nbconvert_exporter": "python",
   "pygments_lexer": "ipython3",
   "version": "3.7.4"
  }
 },
 "nbformat": 4,
 "nbformat_minor": 2
}
