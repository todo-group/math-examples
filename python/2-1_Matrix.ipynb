{
 "cells": [
  {
   "cell_type": "code",
   "execution_count": 1,
   "metadata": {},
   "outputs": [],
   "source": [
    "%matplotlib inline\n",
    "import numpy\n",
    "import matplotlib.pyplot as pyplot"
   ]
  },
  {
   "cell_type": "markdown",
   "metadata": {},
   "source": [
    "東京大学数理・データサイエンスコンソーシアム 社会人向け講座 2019年秋\n",
    "\n",
    "# 解析・線形代数入門 〜データサイエンスのための〜\n",
    "\n",
    "# 2-1 行列\n",
    "\n",
    "## 行列とその演算法則\n",
    "\n",
    "* $m$行$n$列行列(matrix)：$m \\times n$ 個の数を$m$行$n$列に並べたもの <br>\n",
    "  $\\displaystyle A = \\begin{bmatrix}\n",
    "  a_{11} & a_{12} & \\cdots & a_{1n} \\\\\n",
    "  a_{21} & a_{22} & \\cdots & a_{2n} \\\\\n",
    "  \\vdots & \\vdots & & \\vdots \\\\\n",
    "  a_{m1} & a_{m2} & \\cdots & a_{mn}\n",
    "  \\end{bmatrix}$\n",
    "  * $a_{ij}$ $(1 \\le i \\le m, 1 \\le j \\le n)$を行列$A$の「要素(成分)」と呼ぶ\n",
    "  * すべての成分が0である行列：零行列、$O$で表す\n",
    "  * $1$行$n$列行列を$n$次「行ベクトル」と呼ぶ：$\\vec{a} = \\begin{bmatrix} a_1 & a_2 & \\cdots a_n \\end{bmatrix}$\n",
    "  * $m$行$1$列行列を$m$次「列ベクトル」と呼ぶ：$\\displaystyle \\vec{a} = \\begin{bmatrix} a_1 \\\\ a_2 \\\\ \\vdots \\\\ a_m \\end{bmatrix}$"
   ]
  },
  {
   "cell_type": "markdown",
   "metadata": {},
   "source": [
    "*  行列の相等\n",
    "  * 2つの行列$A$, $B$が同じ型(行数と列数がそれぞれ同じ)で、かつ対応する全ての成分が等しいとき、$A=B$と表す<br>\n",
    "    $A=B \\ \\Leftrightarrow a_{ij} = b_{ij} \\ (1 \\le i \\le m, 1 \\le j \\le n)$ "
   ]
  },
  {
   "cell_type": "markdown",
   "metadata": {},
   "source": [
    "* 行列の定数倍(スカラー倍)\n",
    "  * 行列$A$に定数$k$をかけると、各成分が$k$倍される <br>\n",
    "      $\\displaystyle k A = \\begin{bmatrix}\n",
    "      ka_{11} & ka_{12} & \\cdots & ka_{1n} \\\\\n",
    "      ka_{21} & ka_{22} & \\cdots & ka_{2n} \\\\\n",
    "      \\vdots & \\vdots & & \\vdots \\\\\n",
    "      ka_{m1} & ka_{m2} & \\cdots & ka_{mn}\n",
    "      \\end{bmatrix}$"
   ]
  },
  {
   "cell_type": "markdown",
   "metadata": {},
   "source": [
    "* 行列の和・差\n",
    "  * 2つの行列$A$と$B$が同じ型の場合だけ和と差が定義できる。行列の和(差)をとると対応する各成分の和(差)がとられる\n",
    "      $\\displaystyle A \\pm B = \\begin{bmatrix}\n",
    "  a_{11} \\pm b_{11} & a_{12} \\pm b_{12} & \\cdots & a_{1n} \\pm b_{1n} \\\\\n",
    "  a_{21} \\pm b_{21} & a_{22} \\pm b_{22} & \\cdots & a_{2n} \\pm b_{2n} \\\\\n",
    "  \\vdots & \\vdots & & \\vdots \\\\\n",
    "  a_{m1} \\pm b_{m1} & a_{m2} \\pm b_{m2} & \\cdots & a_{mn} \\pm b_{mn} \n",
    "  \\end{bmatrix}$ (複号同順)\n",
    "  * 交換則：$A+B=B+A$\n",
    "  * 結合則：$(A+B)+C = A+(B+C)$"
   ]
  },
  {
   "cell_type": "markdown",
   "metadata": {},
   "source": [
    "* 行列の積\n",
    "  * 行列$A$が$m$行$\\ell$列、行列$B$が$\\ell$行$n$列(すなわち$A$の列数と$B$の行数が同じ)であるときに、それらの積$AB$を以下のように定義する<br>\n",
    "    $\\displaystyle (AB)_{ij} \\sum_{k=1}^{\\ell} a_{ik} b_{kj}$ (ただし$(AB)_{ij}$は$AB$の$(i,j)$成分を表す)\n",
    "  * 積の結果は$m$行$n$列の行列となる\n",
    "  * 結合法則：$(AB)C = A(BC)$、分配法則：$A(B+C) = AB+AC$、$(A+B)C = AC+BC$は成り立つ\n",
    "  * 積について一般的に交換法則は「成り立たない」⇒ $AB \\ne BA$\n",
    "  * $AB=BA$であるときに「$A$と$B$は交換可能」または「$A$と$B$は可換」という"
   ]
  },
  {
   "cell_type": "markdown",
   "metadata": {},
   "source": [
    "* 転置行列\n",
    "  * 行列$A$の行と列を入れ替えたものを「転置行列」といい、${}^tA$と書く (t は transpose を意味する)<br>\n",
    "    $({}^tA)_{ij} = a_{ji}$\n",
    "  * 行列$A$が$m \\times n$型であるとき、転置行列${}^tA$は$n \\times m$型となる\n",
    "  * 和・差の転置行列：${}^t(A \\pm B) = {}^tA \\pm {}^tB$ (複合同順)\n",
    "  * 定数倍の転置行列：${}^t(kA) = k {}^tA$\n",
    "  * 積の転置行列：${}^t(AB) = {}^tB  {}^tA$ (行列の順番が逆になることに注意)"
   ]
  },
  {
   "cell_type": "markdown",
   "metadata": {},
   "source": [
    "## 2次正方行列\n",
    "\n",
    "* 正方行列：行数と列数が同じ行列\n",
    "  * 2次正方行列：$2$行$2$列の行列"
   ]
  },
  {
   "cell_type": "markdown",
   "metadata": {},
   "source": [
    "* 単位行列：対角成分が1、それ以外の成分が0の行列\n",
    "  * 2次単位行列：$\\displaystyle E = \\begin{bmatrix} 1 & 0 \\\\ 0 & 1 \\end{bmatrix}$\n",
    "  * 任意の2次正方行列$A$に対して $AE = EA$ が成り立つ"
   ]
  },
  {
   "cell_type": "markdown",
   "metadata": {},
   "source": [
    "* ケーリーハミルトンの定理<br>\n",
    "  2次正方行列 $\\displaystyle A = \\begin{bmatrix} a & b \\\\ c & d \\end{bmatrix}$ に対して、$A^2 - (a+d) A + (ad-bc)E = O$が成り立つ"
   ]
  },
  {
   "cell_type": "markdown",
   "metadata": {},
   "source": [
    "* 行列のトレース<br>\n",
    "  * $n$次正方行列$A$の対角成分の和をトレースといい、${\\rm Tr} A$で表す\n",
    "  * $\\displaystyle {\\rm Tr} A = \\sum_{i=1}^n a_{ii}$\n",
    "  * 2次正方行列 $\\displaystyle A = \\begin{bmatrix} a & b \\\\ c & d \\end{bmatrix}$の場合、$\\displaystyle {\\rm Tr} A = a+d$"
   ]
  },
  {
   "cell_type": "markdown",
   "metadata": {},
   "source": [
    "* トレースについて以下の性質が成り立つ\n",
    "  * $\\displaystyle {\\rm Tr} (kA) = {\\rm Tr} (kA)$\n",
    "  * $\\displaystyle {\\rm Tr} (A+B) = {\\rm Tr} A + {\\rm Tr} B$\n",
    "  * $\\displaystyle {\\rm Tr} (AB) = {\\rm Tr} (BA)$"
   ]
  },
  {
   "cell_type": "markdown",
   "metadata": {},
   "source": [
    "* 逆行列・正則行列・行列式\n",
    "  * $n$次正方行列$A$に対して、$AX=XA=E$を満たす$n$次正方行列$X$が存在するとき、行列$X$を$A$の逆行列(inverse matrix)といい、$A^{-1}$で表す\n",
    "  * 逆行列 $A^{-1}$はいつでも存在するとは限らない。しかし、存在するときはただ1つ\n",
    "  * 逆行列が存在する正方行列を「正則行列」という\n",
    "  * 積の逆行列：$\\displaystyle (AB)^{-1} = B^{-1} A^{-1}$ (行列の順番が逆になることに注意)\n",
    "  * 定数倍の逆行列：$\\displaystyle (kA)^{-1} = \\frac{1}{k} A^{-1}$"
   ]
  },
  {
   "cell_type": "markdown",
   "metadata": {},
   "source": [
    "* 2次正方行列 $\\displaystyle A = \\begin{bmatrix} a & b \\\\ c & d \\end{bmatrix}$に対する逆行列\n",
    "  * $ad-bc \\ne 0$のとき<br>\n",
    "    $\\displaystyle A^{-1} = \\frac{1}{ad-bc} \\begin{bmatrix} d & -b \\\\ -c & a \\end{bmatrix}$\n",
    "  * $ad-bc = 0$のときは、逆行列は存在しない\n",
    "  * $ad-bc$を2次正方行列$A$の「行列式(determinant)」とよび、$|A|$、$\\det(A)$などと表す"
   ]
  },
  {
   "cell_type": "markdown",
   "metadata": {},
   "source": [
    "* 3次正方行列 $\\displaystyle A = \\begin{bmatrix} a_1 & b_1 & c_1 \\\\ a_2 & b_2 & c_2 \\\\ a_3 & b_3 & c_3 \\end{bmatrix}$に対する逆行列<br>\n",
    "  $\\displaystyle |A| = a_1 b_2 c_3 + a_2 b_3 c_1 + a_3 b_1 c_2 - a_1 b_3 c_2 - a_2 b_1 c_3 - a_3 b_2 c_1$"
   ]
  },
  {
   "cell_type": "markdown",
   "metadata": {},
   "source": [
    "## ここまでのまとめ\n",
    "\n",
    "* 行列は普通の数と同じように、和・差・積・逆数(逆行列)などが定義されている\n",
    "* 積は可換ではない、商は定義されない、逆行列は必ずしも存在しない\n",
    "* トレース、行列式という特別な量が存在"
   ]
  },
  {
   "cell_type": "code",
   "execution_count": null,
   "metadata": {},
   "outputs": [],
   "source": []
  }
 ],
 "metadata": {
  "kernelspec": {
   "display_name": "Python 3",
   "language": "python",
   "name": "python3"
  },
  "language_info": {
   "codemirror_mode": {
    "name": "ipython",
    "version": 3
   },
   "file_extension": ".py",
   "mimetype": "text/x-python",
   "name": "python",
   "nbconvert_exporter": "python",
   "pygments_lexer": "ipython3",
   "version": "3.7.4"
  }
 },
 "nbformat": 4,
 "nbformat_minor": 2
}
