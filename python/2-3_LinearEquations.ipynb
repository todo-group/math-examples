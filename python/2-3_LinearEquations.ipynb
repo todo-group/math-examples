{
 "cells": [
  {
   "cell_type": "code",
   "execution_count": 1,
   "metadata": {},
   "outputs": [],
   "source": [
    "%matplotlib inline\n",
    "import numpy\n",
    "import matplotlib.pyplot as pyplot"
   ]
  },
  {
   "cell_type": "markdown",
   "metadata": {},
   "source": [
    "### 東京大学数理・データサイエンスコンソーシアム 社会人向け講座 2019年秋\n",
    "\n",
    "# 解析・線形代数入門 〜データサイエンスのための〜\n",
    "\n",
    "# 2-3 連立方程式\n",
    "\n",
    "##  連立1次方程式\n",
    "\n",
    "* 2変数連立1次方程式の行列表示\n",
    "  $\\displaystyle \\begin{cases} ax+by = p \\\\ cx+dy = q\\end{cases}$<br>\n",
    "  * この２つを同時に満たす$x,y$を求めたい\n",
    "  * 行列の積の定義から以下の形にまとめることができる<br>\n",
    "  $\\displaystyle A \\vec{x} = \\vec{p}$<br>\n",
    "  ただし、$\\displaystyle A = \\begin{bmatrix} a & b \\\\ c & d \\end{bmatrix}$, $\\displaystyle \\vec{x} = \\begin{bmatrix} x \\\\ y \\end{bmatrix}$, $\\displaystyle p = \\begin{bmatrix} p \\\\ q \\end{bmatrix}$"
   ]
  },
  {
   "cell_type": "markdown",
   "metadata": {},
   "source": [
    "* 2変数連立1次方程式の解\n",
    "  * $A$が正則である(逆行列が存在する)場合には、両辺から$A^{-1}$をかけて<br>\n",
    "    $\\vec{x} = A^{-1} \\vec{p}$\n",
    "  * $A^{-1}$の一意性から解$\\vec{x}$も一意(唯一の解)\n",
    "  * $A$が正則でない場合は以下の二通り\n",
    "    * 解なし\n",
    "    * 無数の解が存在\n",
    "\n",
    "* 例1: $\\displaystyle A = \\begin{bmatrix} 1 & 1 \\\\ 2 & 4 \\end{bmatrix}$, $\\displaystyle p = \\begin{bmatrix} 7 \\\\ 20 \\end{bmatrix}$ <br>\n",
    "  $|A| = 2 \\ne 0$ であるから逆行列が存在して、$\\displaystyle A^{-1} = \\frac{1}{2} \\begin{bmatrix} 4 & -1 \\\\ -2 & 1 \\end{bmatrix}$<br>\n",
    "  $\\displaystyle \\vec{x} = \\frac{1}{2} \\begin{bmatrix} 4 & -1 \\\\ -2 & 1 \\end{bmatrix}  \\begin{bmatrix} 7 \\\\ 20 \\end{bmatrix} = \\begin{bmatrix} 4 \\\\ 3 \\end{bmatrix}$\n",
    "  * 唯一の解が存在\n",
    "* 例2: $\\displaystyle A = \\begin{bmatrix} 1 & 2 \\\\ 2 & 4 \\end{bmatrix}$, $\\displaystyle p = \\begin{bmatrix} 7 \\\\ 20 \\end{bmatrix}$ <br>\n",
    "  $|A| = 0$ であるから$A$の逆行列は存在しない<br>\n",
    "  $x+2y=7$ ⇒ $x = 7-2y$ を $2x+4y = 20$に代入すると $14=20$ (矛盾)\n",
    "  * 解なし\n",
    "* 例3: $\\displaystyle A = \\begin{bmatrix} 1 & 2 \\\\ 2 & 4 \\end{bmatrix}$, $\\displaystyle p = \\begin{bmatrix} 10 \\\\ 20 \\end{bmatrix}$ <br>\n",
    "  $|A| = 0$ であるから$A$の逆行列は存在しない<br>\n",
    "  $x+2y=10$ ⇒ $x = 10-2y$ を $2x+4y = 20$に代入すると $20=20$ となり、いつでも成り立つ<br>\n",
    "  * 実際、$x+2y=10$と$2x+4y = 20$は同じ式\n",
    "  * 無数の解が存在: $x=10 - 2t$, $y=t$ ($t$は任意の定数)"
   ]
  },
  {
   "cell_type": "markdown",
   "metadata": {},
   "source": [
    "## 幾何学的意味\n",
    "\n",
    "* $2 \\times 2$行列$A$が正則でない場合 ⇒ 階数(rank)は2より小さい\n",
    "* 階数が1のとき\n",
    "  * $\\vec{x}$を$A$で変換すると、変換後は1本の直線上に乗る\n",
    "  * $\\displaystyle \\begin{cases} x' = ax+by \\\\ y' = cx+dy \\end{cases}$<br>\n",
    "    1行目の両辺に$d$をかけたものから、2行目の両辺に$b$をかけたものを引く ⇒ $dx' - by' = (ad - bc) x = 0$ <br>\n",
    "    あるいは、1行目の両辺に$c$をかけたものから、2行目の両辺に$a$をかけたものを引く ⇒ $cx' - ay' = (ad - bc) y = 0$ (同じ式)<br>\n",
    "  * この直線 $dx' - by' = 0$ (または $cx' - ay' = 0$)に $\\vec{p}$ が乗っている場合、すなわち $dp - bq = 0$ ($cp - aq = 0$) の場合 ⇒ 無数の解\n",
    "  * 直線に $\\vec{p}$ が乗っていない場合 ⇒ 解なし\n",
    "  * 例2: $dp - bq = 4 \\times 7 - 2 \\times 20 = -12 \\ne 0$\n",
    "  * 例3: $dp - bq = 4 \\times 10 - 2 \\times 20 = 0$\n",
    "* 階数が0すなわち$A=O$の場合、変換により全ての点は原点に移される\n",
    "  * $\\vec{p} = O$ の場合 ⇒ $\\vec{x}$ は何でもよい\n",
    "  * $\\vec{p} \\ne O$ の場合 ⇒ 解なし"
   ]
  },
  {
   "cell_type": "code",
   "execution_count": null,
   "metadata": {},
   "outputs": [],
   "source": []
  }
 ],
 "metadata": {
  "kernelspec": {
   "display_name": "Python 3",
   "language": "python",
   "name": "python3"
  },
  "language_info": {
   "codemirror_mode": {
    "name": "ipython",
    "version": 3
   },
   "file_extension": ".py",
   "mimetype": "text/x-python",
   "name": "python",
   "nbconvert_exporter": "python",
   "pygments_lexer": "ipython3",
   "version": "3.7.4"
  }
 },
 "nbformat": 4,
 "nbformat_minor": 2
}
