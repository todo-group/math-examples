{
 "cells": [
  {
   "cell_type": "code",
   "execution_count": null,
   "metadata": {},
   "outputs": [],
   "source": [
    "%matplotlib inline\n",
    "import numpy\n",
    "import matplotlib.pyplot as pyplot"
   ]
  },
  {
   "cell_type": "markdown",
   "metadata": {},
   "source": [
    "東京大学数理・データサイエンスコンソーシアム 社会人向け講座 2019年秋\n",
    "\n",
    "# 解析・線形代数入門 〜データサイエンスのための〜\n",
    "\n",
    "# 2-1 行列と線形写像 (Appendix)\n",
    "\n",
    "## Pythonでの行列演算\n",
    "* Numpy配列(numpy.array)を使う"
   ]
  },
  {
   "cell_type": "markdown",
   "metadata": {},
   "source": [
    "### 行ベクトル、列ベクトル、行列\n",
    "* 行ベクトル($1\\times 3$行列)、列ベクトル($3 \\times 1$行列)、$2 \\times 4$行列の例\n",
    "  * 各行を [] に入れる。また全体を [] に入れる。要素の間にはカンマ"
   ]
  },
  {
   "cell_type": "code",
   "execution_count": null,
   "metadata": {},
   "outputs": [],
   "source": [
    "a = numpy.array([1, 0.5, 2]);\n",
    "print(a);"
   ]
  },
  {
   "cell_type": "code",
   "execution_count": null,
   "metadata": {},
   "outputs": [],
   "source": [
    "b = numpy.array([[3], [0], [1.3]]);\n",
    "print(b);"
   ]
  },
  {
   "cell_type": "code",
   "execution_count": null,
   "metadata": {},
   "outputs": [],
   "source": [
    "A = numpy.array([[1, 2, 3, 4], [5, 6, 7, 8]]);\n",
    "print(A);"
   ]
  },
  {
   "cell_type": "markdown",
   "metadata": {},
   "source": [
    "* 行列の要素\n",
    "  * Numpy配列では添字が0から始まることに注意\n",
    "  * 例えば行列Aの(2,3)成分は A[1, 2] と書く必要がある"
   ]
  },
  {
   "cell_type": "code",
   "execution_count": null,
   "metadata": {},
   "outputs": [],
   "source": [
    "print(A[1, 2]);"
   ]
  },
  {
   "cell_type": "markdown",
   "metadata": {},
   "source": [
    "* (2,3)成分の値を1にセットする"
   ]
  },
  {
   "cell_type": "code",
   "execution_count": null,
   "metadata": {},
   "outputs": [],
   "source": [
    "A[1, 2] = 1;\n",
    "print(A);"
   ]
  },
  {
   "cell_type": "markdown",
   "metadata": {},
   "source": [
    "* 行列の列や行を取り出す\n",
    "  * 2行目を取り出す"
   ]
  },
  {
   "cell_type": "code",
   "execution_count": null,
   "metadata": {},
   "outputs": [],
   "source": [
    "print(A[1,:]);"
   ]
  },
  {
   "cell_type": "markdown",
   "metadata": {},
   "source": [
    "### 単位行列、零行列、ランダム行列\n",
    "* $3 \\times 3$単位行列"
   ]
  },
  {
   "cell_type": "code",
   "execution_count": null,
   "metadata": {},
   "outputs": [],
   "source": [
    "E = numpy.identity(3);\n",
    "print('E = ', E);"
   ]
  },
  {
   "cell_type": "markdown",
   "metadata": {},
   "source": [
    "* $2 \\times 2$零行列\n",
    "  * 引数には行列の型をリストで指定する"
   ]
  },
  {
   "cell_type": "code",
   "execution_count": null,
   "metadata": {},
   "outputs": [],
   "source": [
    "O = numpy.zeros([2, 2]);\n",
    "print('O = ', O);"
   ]
  },
  {
   "cell_type": "markdown",
   "metadata": {},
   "source": [
    "* $4 \\times 4$ランダム行列\n",
    "  * 等式をテストしてみるのに便利\n",
    "  * numpy.zeros() とは行列の型の指定方法が異なるので注意"
   ]
  },
  {
   "cell_type": "code",
   "execution_count": null,
   "metadata": {},
   "outputs": [],
   "source": [
    "A = numpy.random.rand(4, 4);\n",
    "print('A = ', A);"
   ]
  },
  {
   "cell_type": "markdown",
   "metadata": {},
   "source": [
    "### トレース、行列式\n",
    "* トレース"
   ]
  },
  {
   "cell_type": "code",
   "execution_count": null,
   "metadata": {},
   "outputs": [],
   "source": [
    "A = numpy.random.rand(2, 2);\n",
    "print('A = ', A);\n",
    "print('Tr A = ', A.trace());\n",
    "print('Tr A = ', A[0,0] + A[1,1]); # 確認"
   ]
  },
  {
   "cell_type": "markdown",
   "metadata": {},
   "source": [
    "* 行列式"
   ]
  },
  {
   "cell_type": "code",
   "execution_count": null,
   "metadata": {},
   "outputs": [],
   "source": [
    "print('|A| = ', numpy.linalg.det(A));\n",
    "print('|A| = ', A[0,0] * A[1,1] - A[0,1] * A[1,0]); # 確認"
   ]
  },
  {
   "cell_type": "markdown",
   "metadata": {},
   "source": [
    "### 行列の和、積\n",
    "* 行列の和"
   ]
  },
  {
   "cell_type": "code",
   "execution_count": null,
   "metadata": {},
   "outputs": [],
   "source": [
    "A = numpy.random.rand(2, 2);\n",
    "print('A = ', A);\n",
    "B = numpy.random.rand(2, 2);\n",
    "print('B = ', B);\n",
    "C = numpy.random.rand(2, 2);\n",
    "print('C = ', C);\n",
    "print('A+B = ', A+B);"
   ]
  },
  {
   "cell_type": "markdown",
   "metadata": {},
   "source": [
    "* 和の結合則・交換則"
   ]
  },
  {
   "cell_type": "code",
   "execution_count": null,
   "metadata": {},
   "outputs": [],
   "source": [
    "print('(A+B)+C = ', (A + B) + C);\n",
    "print('A+(B+C) = ', A + (B + C));"
   ]
  },
  {
   "cell_type": "code",
   "execution_count": null,
   "metadata": {},
   "outputs": [],
   "source": [
    "print('A+B = ', A + B);\n",
    "print('B+A = ', B + A);"
   ]
  },
  {
   "cell_type": "markdown",
   "metadata": {},
   "source": [
    "* 行列の積には ＊ ではなく @ を使う (＊を使うと要素ごとの積になってしまう)\n",
    "* 積$AB$は$A$の列の数と$B$の行が等しい場合しか定義されない"
   ]
  },
  {
   "cell_type": "code",
   "execution_count": null,
   "metadata": {},
   "outputs": [],
   "source": [
    "A = numpy.random.rand(2, 3);\n",
    "print('A = ', A);\n",
    "B = numpy.random.rand(3, 4);\n",
    "print(B);\n",
    "print('AB = ', A @ B); # OK"
   ]
  },
  {
   "cell_type": "code",
   "execution_count": null,
   "metadata": {},
   "outputs": [],
   "source": [
    "print('BA = ', B @ A); # NG"
   ]
  },
  {
   "cell_type": "markdown",
   "metadata": {},
   "source": [
    "* 積の結合則は成り立つが交換則は必ずしも成り立たない"
   ]
  },
  {
   "cell_type": "code",
   "execution_count": null,
   "metadata": {},
   "outputs": [],
   "source": [
    "A = numpy.random.rand(2, 2);\n",
    "print('A = ', A);\n",
    "B = numpy.random.rand(2, 2);\n",
    "print('B = ', B);\n",
    "print('(AB)C = ', (A @ B) @ C);\n",
    "print('A(BC) = ', A @ (B @ C));"
   ]
  },
  {
   "cell_type": "code",
   "execution_count": null,
   "metadata": {},
   "outputs": [],
   "source": [
    "print('AB = ', A @ B);\n",
    "print('BA = ', B @ A);"
   ]
  },
  {
   "cell_type": "markdown",
   "metadata": {},
   "source": [
    "### 逆行列\n",
    "* 行列式が0でない場合は逆行列$A^{-1}$が存在して$A A^{-1} = A^{-1} A = E$"
   ]
  },
  {
   "cell_type": "code",
   "execution_count": null,
   "metadata": {},
   "outputs": [],
   "source": [
    "A = numpy.random.rand(2, 2);\n",
    "print('A = ', A);\n",
    "print('determinant = ', numpy.linalg.det(A));"
   ]
  },
  {
   "cell_type": "code",
   "execution_count": null,
   "metadata": {},
   "outputs": [],
   "source": [
    "Ainv = numpy.linalg.inv(A);\n",
    "print('A^-1 = ', Ainv);\n",
    "print('A A^-1 = ', A @ Ainv);"
   ]
  },
  {
   "cell_type": "code",
   "execution_count": null,
   "metadata": {},
   "outputs": [],
   "source": [
    "print('A^-1 A = ', Ainv @ A);"
   ]
  },
  {
   "cell_type": "code",
   "execution_count": null,
   "metadata": {},
   "outputs": [],
   "source": []
  }
 ],
 "metadata": {
  "kernelspec": {
   "display_name": "Python 3",
   "language": "python",
   "name": "python3"
  },
  "language_info": {
   "codemirror_mode": {
    "name": "ipython",
    "version": 3
   },
   "file_extension": ".py",
   "mimetype": "text/x-python",
   "name": "python",
   "nbconvert_exporter": "python",
   "pygments_lexer": "ipython3",
   "version": "3.7.4"
  }
 },
 "nbformat": 4,
 "nbformat_minor": 2
}
