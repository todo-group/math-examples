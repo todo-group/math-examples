{
 "cells": [
  {
   "cell_type": "markdown",
   "metadata": {},
   "source": [
    "東京大学数理・データサイエンスコンソーシアム 社会人向け講座 2019年秋\n",
    "\n",
    "# 解析・線形代数入門 〜データサイエンスのための〜\n",
    "\n",
    "# 1-3 偏微分 (Appendix)\n",
    "## 接平面\n",
    "* 例: $z= f(x,y) = x^2+y^2)$の$(x,y)=(1,1)$における接平面<br>\n",
    "  $f_x(1,1) = 2$、$f_y(1,1)=2$ → $\\displaystyle z = 2 + 2 (x-1) + 2 (y-1) = 2x+2y-2$\n",
    "* 以下を実行した上で、回転してみて実際に接していることを確認せよ"
   ]
  },
  {
   "cell_type": "code",
   "execution_count": null,
   "metadata": {},
   "outputs": [],
   "source": [
    "%matplotlib notebook\n",
    "import numpy\n",
    "from matplotlib import pyplot\n",
    "from mpl_toolkits.mplot3d import Axes3D\n",
    "\n",
    "x, y = numpy.mgrid[-5:5:0.2, -5:5:0.2];\n",
    "fig = pyplot.figure();\n",
    "ax = fig.add_subplot(111, projection='3d');\n",
    "ax.plot_surface(x, y, x**2+y**2);\n",
    "ax.plot_surface(x, y, 2*x+2*y-2);"
   ]
  },
  {
   "cell_type": "code",
   "execution_count": null,
   "metadata": {},
   "outputs": [],
   "source": []
  }
 ],
 "metadata": {
  "kernelspec": {
   "display_name": "Python 3",
   "language": "python",
   "name": "python3"
  },
  "language_info": {
   "codemirror_mode": {
    "name": "ipython",
    "version": 3
   },
   "file_extension": ".py",
   "mimetype": "text/x-python",
   "name": "python",
   "nbconvert_exporter": "python",
   "pygments_lexer": "ipython3",
   "version": "3.7.4"
  }
 },
 "nbformat": 4,
 "nbformat_minor": 2
}
