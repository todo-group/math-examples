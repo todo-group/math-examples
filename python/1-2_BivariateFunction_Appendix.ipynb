{
 "cells": [
  {
   "cell_type": "markdown",
   "metadata": {},
   "source": [
    "東京大学数理・データサイエンスコンソーシアム 社会人向け講座 2019年秋\n",
    "\n",
    "# 解析・線形代数入門 〜データサイエンスのための〜\n",
    "\n",
    "# 1-2 二変数関数 (Appendix)\n",
    "\n",
    "## 回せる3Dプロット"
   ]
  },
  {
   "cell_type": "markdown",
   "metadata": {},
   "source": [
    "「%matplotlib inline」のかわりに「％matplotlib notebook」を指定すると、マウスで3Dプロットを回すことができるようになる<br>\n",
    "ただし、ノートブックを保存して再度開くと普通の図になってしまうので、再度実行の必要がある"
   ]
  },
  {
   "cell_type": "markdown",
   "metadata": {},
   "source": [
    " ### 例\n",
    " \n",
    " 次のセルを実行してみよ"
   ]
  },
  {
   "cell_type": "code",
   "execution_count": null,
   "metadata": {},
   "outputs": [],
   "source": [
    "%matplotlib notebook\n",
    "import numpy\n",
    "from matplotlib import pyplot\n",
    "from mpl_toolkits.mplot3d import Axes3D\n",
    "\n",
    "def f(x, y):\n",
    "    return x**2 + y**2\n",
    "\n",
    "x, y = numpy.mgrid[-5:5:0.2, -5:5:0.2];\n",
    "z = f(x, y);\n",
    "\n",
    "fig = pyplot.figure();\n",
    "ax = fig.add_subplot(111, projection='3d');\n",
    "ax.plot_surface(x, y, z);"
   ]
  }
 ],
 "metadata": {
  "kernelspec": {
   "display_name": "Python 3",
   "language": "python",
   "name": "python3"
  },
  "language_info": {
   "codemirror_mode": {
    "name": "ipython",
    "version": 3
   },
   "file_extension": ".py",
   "mimetype": "text/x-python",
   "name": "python",
   "nbconvert_exporter": "python",
   "pygments_lexer": "ipython3",
   "version": "3.6.9"
  }
 },
 "nbformat": 4,
 "nbformat_minor": 2
}
