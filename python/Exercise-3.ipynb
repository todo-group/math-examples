{
 "cells": [
  {
   "cell_type": "code",
   "execution_count": null,
   "metadata": {},
   "outputs": [],
   "source": [
    "%matplotlib inline\n",
    "import numpy\n",
    "import matplotlib.pyplot as pyplot\n",
    "from mpl_toolkits.mplot3d import Axes3D"
   ]
  },
  {
   "cell_type": "markdown",
   "metadata": {},
   "source": [
    "東京大学数理・データサイエンスコンソーシアム 社会人向け講座 2019年秋\n",
    "\n",
    "# 解析・線形代数入門 〜データサイエンスのための〜\n",
    "\n",
    "# レポート課題3"
   ]
  },
  {
   "cell_type": "markdown",
   "metadata": {},
   "source": [
    "解答者氏名: "
   ]
  },
  {
   "cell_type": "markdown",
   "metadata": {},
   "source": [
    "採点者氏名: "
   ]
  },
  {
   "cell_type": "markdown",
   "metadata": {},
   "source": [
    "* 以下のセルに解答・図を描くためのPythonスクリプト・プロットの結果を記入せよ。CodeセルやMarkdownセルは必要に応じて付け加えてもよい\n",
    "* 記入したノートブックは採点者に送ること。採点者は採点・講評を記入した後、ファイルを解答者に返却するとともに、 https://sendfile.s.u-tokyo.ac.jp/public/G2q0gAPJcQUARFUBhkNuQyQ-2tsittVP1UTqd1o-9H3K にアップロードせよ。(課題ごとにアップロードURLは異なっているので注意)\n",
    "* アップロードするファイル名は「解答者氏名_採点者氏名.ipynb」、また氏名はフルネームとすること\n",
    "* 提出締切: 11月14日(木) 17:00\n",
    "* 質問や不明な点がある場合は、遠慮なく藤堂<[wistaria@phys.s.u-tokyo.ac.jp](mailto:wistaria@phys.s.u-tokyo.ac.jp)>まで"
   ]
  },
  {
   "cell_type": "markdown",
   "metadata": {},
   "source": [
    "---\n",
    "### 問3-1\n",
    "(a)次の行列のうち、積が定義される組をすべて求め、その積を計算せよ。計算にはNumPy配列(numpy.array)を使ってもよい\n",
    "* $\\displaystyle A = \\begin{bmatrix} 3 & 2 \\\\ 1 & 0 \\\\ 4 & 7 \\end{bmatrix}$\n",
    "* $\\displaystyle B = \\begin{bmatrix} 1 & -1 & 0 \\\\ 5 & 1 & -3 \\\\ 2 & 0 & 7 \\end{bmatrix}$\n",
    "* $\\displaystyle C = \\begin{bmatrix} 2 & -1 \\\\ 0 & 5 \\end{bmatrix}$\n",
    "* $\\displaystyle D = \\begin{bmatrix} -1 \\\\ 0 \\\\ 5 \\end{bmatrix}$\n",
    "* $\\displaystyle F = \\begin{bmatrix} 0 & -1 & 3 \\end{bmatrix}$"
   ]
  },
  {
   "cell_type": "code",
   "execution_count": null,
   "metadata": {},
   "outputs": [],
   "source": []
  },
  {
   "cell_type": "markdown",
   "metadata": {},
   "source": [
    "(b) 以下の行列について、$AB=BA$となるのはどのようなときか？$BC=CB$となるのはどのようなときか？$A$と$BC$との積と、$AB$と$C$の積が等しくなるのはどのようなときか？$p,q,r,s$に対する条件を与えよ<br><br>\n",
    "$\\displaystyle A = \\begin{bmatrix} p & 0 \\\\ q & r \\end{bmatrix}, B = \\begin{bmatrix} 1 & 1 \\\\ 0 & 1 \\end{bmatrix}, C = \\begin{bmatrix} 0 & s \\\\ 0 & 0 \\end{bmatrix}$"
   ]
  },
  {
   "cell_type": "code",
   "execution_count": null,
   "metadata": {},
   "outputs": [],
   "source": []
  },
  {
   "cell_type": "markdown",
   "metadata": {},
   "source": [
    "### 問3-1 採点・講評"
   ]
  },
  {
   "cell_type": "markdown",
   "metadata": {},
   "source": []
  },
  {
   "cell_type": "markdown",
   "metadata": {},
   "source": [
    "---\n",
    "### 問3-2\n",
    "$\\displaystyle A = \\begin{bmatrix} a & b \\\\ c & d \\end{bmatrix}$ が $A^2 - 2A -3E=0$を満たすとき、$a+d$、$ad-bc$の値を求めよ"
   ]
  },
  {
   "cell_type": "code",
   "execution_count": null,
   "metadata": {},
   "outputs": [],
   "source": []
  },
  {
   "cell_type": "markdown",
   "metadata": {},
   "source": [
    "###  問3-2 採点・講評"
   ]
  },
  {
   "cell_type": "markdown",
   "metadata": {},
   "source": []
  },
  {
   "cell_type": "markdown",
   "metadata": {},
   "source": [
    "---\n",
    "### 問3-3\n",
    "(a) 2次元平面上の4つの点$\\begin{bmatrix} x \\\\ y \\end{bmatrix} = \\begin{bmatrix} 0 \\\\ 0 \\end{bmatrix}, \\begin{bmatrix} 1 \\\\ 0 \\end{bmatrix}, \\begin{bmatrix} 1 \\\\ 1 \\end{bmatrix}, \\begin{bmatrix} 0 \\\\ 1 \\end{bmatrix}$は、面積1の正方形を形作る。行列$A$による変換後、正方形は一般的に平行四辺形となるが、その面積は$A$の行列式の絶対値で与えられることを示せ"
   ]
  },
  {
   "cell_type": "code",
   "execution_count": null,
   "metadata": {},
   "outputs": [],
   "source": []
  },
  {
   "cell_type": "markdown",
   "metadata": {},
   "source": [
    "(b) 2つの2次元列ベクトル$\\displaystyle \\vec{x} = \\begin{bmatrix} x_1 \\\\ x_2 \\end{bmatrix}$, $\\displaystyle \\vec{y} = \\begin{bmatrix} y_1 \\\\ y_2 \\end{bmatrix}$について、$\\vec{x} \\cdot \\vec{y} \\equiv {}^t\\vec{x} \\vec{y} = x_1 y_1 + x_2 y_2$を「ベクトル$\\vec{x}$と$\\vec{y}$の内積」という。\n",
    "$2 \\times 2$行列$A$が直交行列(${}^tA A = E$)であるとき、ベクトル$\\vec{x}$と$\\vec{y}$の内積の値は、$A$による変換($\\vec{x}'=A\\vec{x}$, $\\vec{y}'=A\\vec{y}$)後も変わらないことを示せ"
   ]
  },
  {
   "cell_type": "code",
   "execution_count": null,
   "metadata": {},
   "outputs": [],
   "source": []
  },
  {
   "cell_type": "markdown",
   "metadata": {},
   "source": [
    "### 問3-3 採点・講評"
   ]
  },
  {
   "cell_type": "markdown",
   "metadata": {},
   "source": []
  }
 ],
 "metadata": {
  "kernelspec": {
   "display_name": "Python 3",
   "language": "python",
   "name": "python3"
  },
  "language_info": {
   "codemirror_mode": {
    "name": "ipython",
    "version": 3
   },
   "file_extension": ".py",
   "mimetype": "text/x-python",
   "name": "python",
   "nbconvert_exporter": "python",
   "pygments_lexer": "ipython3",
   "version": "3.7.4"
  }
 },
 "nbformat": 4,
 "nbformat_minor": 2
}
