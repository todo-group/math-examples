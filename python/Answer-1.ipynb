{
 "cells": [
  {
   "cell_type": "code",
   "execution_count": 1,
   "metadata": {},
   "outputs": [],
   "source": [
    "%matplotlib inline\n",
    "import numpy\n",
    "import matplotlib.pyplot as pyplot\n",
    "import sympy"
   ]
  },
  {
   "cell_type": "markdown",
   "metadata": {},
   "source": [
    "東京大学数理・データサイエンスコンソーシアム 社会人向け講座 2019年秋\n",
    "\n",
    "# 解析・線形代数入門 〜データサイエンスのための〜\n",
    "\n",
    "# レポート課題1 (回答例)"
   ]
  },
  {
   "cell_type": "markdown",
   "metadata": {},
   "source": [
    "解答者氏名: "
   ]
  },
  {
   "cell_type": "markdown",
   "metadata": {},
   "source": [
    "採点者氏名: "
   ]
  },
  {
   "cell_type": "markdown",
   "metadata": {},
   "source": [
    "* 以下のセルに解答・図を描くためのPythonスクリプト・プロットの結果を記入せよ。CodeセルやMarkdownセルは必要に応じて付け加えてもよい\n",
    "* 記入したノートブックは採点者に送ること。採点者は採点・講評を記入した後、ファイルを解答者に返却するとともに、 https://sendfile.s.u-tokyo.ac.jp/public/G2d0gAuJPIUAk2QBrdptoRT5MJAZyIBqJsFEMFNIfXbk にアップロードせよ\n",
    "* アップロードするファイル名は「解答者氏名_採点者氏名.ipynb」、また氏名はフルネームとすること\n",
    "* 提出締切: 10月31日(木) 17:00\n",
    "* 質問や不明な点がある場合は、遠慮なく藤堂<[wistaria@phys.s.u-tokyo.ac.jp](mailto:wistaria@phys.s.u-tokyo.ac.jp)>まで"
   ]
  },
  {
   "cell_type": "markdown",
   "metadata": {},
   "source": [
    "---\n",
    "### 問1-1\n",
    "\n",
    "(a) 平面上の二点$(x,y)=(1,1), (4,3)$を通る直線の方程式を求めよ"
   ]
  },
  {
   "cell_type": "markdown",
   "metadata": {},
   "source": [
    "$\\displaystyle y = \\frac{2}{3} (x-1) + 1$"
   ]
  },
  {
   "cell_type": "code",
   "execution_count": 2,
   "metadata": {
    "scrolled": false
   },
   "outputs": [
    {
     "data": {
      "image/png": "[encoded data removed]",
      "text/plain": [
       "<Figure size 432x288 with 1 Axes>"
      ]
     },
     "metadata": {
      "needs_background": "light"
     },
     "output_type": "display_data"
    }
   ],
   "source": [
    "x = numpy.linspace(0,5);\n",
    "x0, y0 = [1,1];\n",
    "x1, y1 = [4,3];\n",
    "pyplot.plot(x, (2/3)*(x-1)+1);\n",
    "pyplot.plot(x0, y0, 'o');\n",
    "pyplot.plot(x1, y1, 'o');\n",
    "pyplot.grid(which=\"major\");"
   ]
  },
  {
   "cell_type": "markdown",
   "metadata": {},
   "source": [
    "(b) $(x,y)=(1,1)$を通り、(a)に直交する直線の方程式を求めよ"
   ]
  },
  {
   "cell_type": "markdown",
   "metadata": {},
   "source": [
    "$\\displaystyle y = -\\frac{3}{2} (x-1) + 1$"
   ]
  },
  {
   "cell_type": "markdown",
   "metadata": {},
   "source": [
    "(c) 二本の直線をプロットし、直交していることを確認せよ"
   ]
  },
  {
   "cell_type": "code",
   "execution_count": 3,
   "metadata": {
    "scrolled": false
   },
   "outputs": [
    {
     "data": {
      "image/png": "[encoded data removed]",
      "text/plain": [
       "<Figure size 432x288 with 1 Axes>"
      ]
     },
     "metadata": {
      "needs_background": "light"
     },
     "output_type": "display_data"
    }
   ],
   "source": [
    "x = numpy.linspace(0,3);\n",
    "x0, y0 = [1,1];\n",
    "pyplot.plot(x, (2/3)*(x-1)+1);\n",
    "pyplot.plot(x, -(3/2)*(x-1)+1);\n",
    "pyplot.plot(x0, y0, 'o');\n",
    "pyplot.gca().set_aspect('equal'); # アスペクト比を1に\n",
    "pyplot.grid(which=\"major\");"
   ]
  },
  {
   "cell_type": "markdown",
   "metadata": {},
   "source": [
    "###  問1-1 採点・講評"
   ]
  },
  {
   "cell_type": "markdown",
   "metadata": {},
   "source": []
  },
  {
   "cell_type": "markdown",
   "metadata": {},
   "source": [
    "---\n",
    "### 問1-2\n",
    "(a) $f(x) = e^{-x^2}$の一階導関数、二階導関数を求めよ"
   ]
  },
  {
   "cell_type": "markdown",
   "metadata": {},
   "source": [
    "$f'(x)=-2x e^{-x^2}$<br>\n",
    "$f''(x)=2(2x^2 - 1) e^{-x^2}$"
   ]
  },
  {
   "cell_type": "markdown",
   "metadata": {},
   "source": [
    "参考: sympyモジュールを使うと数式的に微分を行うことが可能"
   ]
  },
  {
   "cell_type": "code",
   "execution_count": 4,
   "metadata": {
    "scrolled": true
   },
   "outputs": [
    {
     "data": {
      "text/latex": [
       "$\\displaystyle - 2 x e^{- x^{2}}$"
      ],
      "text/plain": [
       "-2*x*exp(-x**2)"
      ]
     },
     "execution_count": 4,
     "metadata": {},
     "output_type": "execute_result"
    }
   ],
   "source": [
    "x = sympy.Symbol('x')\n",
    "sympy.diff(sympy.exp(-x*x), x)"
   ]
  },
  {
   "cell_type": "code",
   "execution_count": 5,
   "metadata": {
    "scrolled": true
   },
   "outputs": [
    {
     "data": {
      "text/latex": [
       "$\\displaystyle 2 \\left(2 x^{2} - 1\\right) e^{- x^{2}}$"
      ],
      "text/plain": [
       "2*(2*x**2 - 1)*exp(-x**2)"
      ]
     },
     "execution_count": 5,
     "metadata": {},
     "output_type": "execute_result"
    }
   ],
   "source": [
    "x = sympy.Symbol('x')\n",
    "sympy.simplify(sympy.diff(sympy.diff(sympy.exp(-x*x), x), x))"
   ]
  },
  {
   "cell_type": "markdown",
   "metadata": {},
   "source": [
    "(b) $f(x) = (x^3+x)^5$の一階導関数、二階導関数を求めよ"
   ]
  },
  {
   "cell_type": "code",
   "execution_count": 6,
   "metadata": {},
   "outputs": [
    {
     "data": {
      "text/latex": [
       "$\\displaystyle x^{4} \\left(x^{2} + 1\\right)^{4} \\left(15 x^{2} + 5\\right)$"
      ],
      "text/plain": [
       "x**4*(x**2 + 1)**4*(15*x**2 + 5)"
      ]
     },
     "execution_count": 6,
     "metadata": {},
     "output_type": "execute_result"
    }
   ],
   "source": [
    "x = sympy.Symbol('x')\n",
    "sympy.simplify(sympy.diff((x**3 + x)**5, x))"
   ]
  },
  {
   "cell_type": "code",
   "execution_count": 7,
   "metadata": {},
   "outputs": [
    {
     "data": {
      "text/latex": [
       "$\\displaystyle 210 x^{13} + 780 x^{11} + 1100 x^{9} + 720 x^{7} + 210 x^{5} + 20 x^{3}$"
      ],
      "text/plain": [
       "210*x**13 + 780*x**11 + 1100*x**9 + 720*x**7 + 210*x**5 + 20*x**3"
      ]
     },
     "execution_count": 7,
     "metadata": {},
     "output_type": "execute_result"
    }
   ],
   "source": [
    "x = sympy.Symbol('x')\n",
    "sympy.simplify(sympy.diff(sympy.diff((x**3 + x)**5, x), x))"
   ]
  },
  {
   "cell_type": "markdown",
   "metadata": {},
   "source": [
    "### 問1-2 採点・講評"
   ]
  },
  {
   "cell_type": "markdown",
   "metadata": {},
   "source": []
  },
  {
   "cell_type": "markdown",
   "metadata": {},
   "source": [
    "---\n",
    "### 問1-3\n",
    "(a) $y=f(x)=x^2-x+1$が最小値を取る$x$の値$x_0$とそこでの$y$の値$y_0$を求めよ"
   ]
  },
  {
   "cell_type": "markdown",
   "metadata": {},
   "source": [
    "平方完成すると$y=(x-1/2)^2 + 3/4$<br>\n",
    "$(x_0,y_0)=(1/2, 3/4)$"
   ]
  },
  {
   "cell_type": "markdown",
   "metadata": {},
   "source": [
    "(b) 最小点$(x,y)=(x_0,y_0)$を通る接線の方程式を求めよ"
   ]
  },
  {
   "cell_type": "markdown",
   "metadata": {},
   "source": [
    "接線の傾きは$f'(x_0) = 2 x_0 - 1 = 0$<br>\n",
    "接線の方程式: $y=3/4$"
   ]
  },
  {
   "cell_type": "markdown",
   "metadata": {},
   "source": [
    "(c) (a)、(b)をプロットし最小点となっていることを確認せよ"
   ]
  },
  {
   "cell_type": "code",
   "execution_count": 8,
   "metadata": {
    "scrolled": false
   },
   "outputs": [
    {
     "data": {
      "image/png": "[encoded data removed]",
      "text/plain": [
       "<Figure size 432x288 with 1 Axes>"
      ]
     },
     "metadata": {
      "needs_background": "light"
     },
     "output_type": "display_data"
    }
   ],
   "source": [
    "x = numpy.linspace(-1,2);\n",
    "x0, y0 = [1/2, 3/4];\n",
    "pyplot.plot(x, x**2-x+1);\n",
    "pyplot.plot(x, 0*x + 3/4); # \"0*x\"がないとエラーになることに注意\n",
    "pyplot.plot(x0, y0, 'o');\n",
    "pyplot.grid(which=\"major\");"
   ]
  },
  {
   "cell_type": "markdown",
   "metadata": {},
   "source": [
    "### 問1-3 採点・講評"
   ]
  },
  {
   "cell_type": "markdown",
   "metadata": {},
   "source": []
  },
  {
   "cell_type": "markdown",
   "metadata": {},
   "source": [
    "---\n",
    "### 問1-4\n",
    "曲線$y=f(x)=x^2+c$と直線$y=g(x)=2x+1$が接するための条件を求めよう\n",
    "\n",
    "(a) $x=x_0$における曲線$y=f(x)$の値$y_0$と、その点における接線の方程式を求めよ"
   ]
  },
  {
   "cell_type": "markdown",
   "metadata": {},
   "source": [
    "$y_0 = f(x_0) = x_0^2 + c$<br>\n",
    "接線の傾き: $f'(x_0) = 2x_0$<br>\n",
    "接線の方程式: $y = 2x_0 (x-x_0) + x_0^2 + c$"
   ]
  },
  {
   "cell_type": "markdown",
   "metadata": {},
   "source": [
    "(b) 点$(x_0,y_0)$が直線$y=g(x)$上にあるための条件式を求めよ"
   ]
  },
  {
   "cell_type": "markdown",
   "metadata": {},
   "source": [
    "$y_0 = 2x_0+1$ → $x_0^2+c = 2x_0 + 1$"
   ]
  },
  {
   "cell_type": "markdown",
   "metadata": {},
   "source": [
    "(c) (a)で求めた点$(x_0,y_0)$における接線の傾きが、$y=g(x)$の傾きと等しくなるための条件式を求めよ"
   ]
  },
  {
   "cell_type": "markdown",
   "metadata": {},
   "source": [
    "$2x_0 = 2$"
   ]
  },
  {
   "cell_type": "markdown",
   "metadata": {},
   "source": [
    "(d) (b)と(c)を満たす$c$と$x_0$の値を求めよ"
   ]
  },
  {
   "cell_type": "markdown",
   "metadata": {},
   "source": [
    "$x_0=1$<br>\n",
    "$1 + c = 2 + 1$ → $c=2$"
   ]
  },
  {
   "cell_type": "markdown",
   "metadata": {},
   "source": [
    "(e) (d)で得られた$c$の値を用いて、曲線$y=f(x)$と直線$y=g(x)$をプロットし、実際に$x=x_0$で接していることを確認せよ"
   ]
  },
  {
   "cell_type": "code",
   "execution_count": 9,
   "metadata": {},
   "outputs": [
    {
     "data": {
      "image/png": "[encoded data removed]",
      "text/plain": [
       "<Figure size 432x288 with 1 Axes>"
      ]
     },
     "metadata": {
      "needs_background": "light"
     },
     "output_type": "display_data"
    }
   ],
   "source": [
    "x = numpy.linspace(0,2);\n",
    "x0 = 1;\n",
    "c = 2;\n",
    "pyplot.plot(x, x**2+c);\n",
    "pyplot.plot(x, 2*x+1);\n",
    "pyplot.plot(x0, x0**2+c, 'o');\n",
    "pyplot.grid(which=\"major\");"
   ]
  },
  {
   "cell_type": "markdown",
   "metadata": {},
   "source": [
    "(f) 接点$(x_0,y_0)$における曲線$y=f(x)$と直線$y=g(x)$それぞれの法線を求め、一致していることを確認せよ"
   ]
  },
  {
   "cell_type": "markdown",
   "metadata": {},
   "source": [
    "$f(x)$の法線: $y = -\\frac{1}{f'(x_0)} (x-x_0) + y_0$ ⇒ $y = -\\frac{1}{2} (x-1) + 3$<br>\n",
    "$g(x)$の法線: $y = -\\frac{1}{2} (x-x_0) + y_0$  ⇒ $y = -\\frac{1}{2} (x-1) + 3$"
   ]
  },
  {
   "cell_type": "code",
   "execution_count": 10,
   "metadata": {},
   "outputs": [
    {
     "data": {
      "image/png": "[encoded data removed]",
      "text/plain": [
       "<Figure size 432x288 with 1 Axes>"
      ]
     },
     "metadata": {
      "needs_background": "light"
     },
     "output_type": "display_data"
    }
   ],
   "source": [
    "x = numpy.linspace(0,2);\n",
    "x0 = 1;\n",
    "c = 2;\n",
    "pyplot.plot(x, x**2+c);\n",
    "pyplot.plot(x, 2*x+1);\n",
    "pyplot.plot(x, -(1/2)*(x-1)+3);\n",
    "pyplot.plot(x0, x0**2+c, 'o');\n",
    "pyplot.gca().set_aspect('equal'); # アスペクト比を1に\n",
    "pyplot.grid(which=\"major\");"
   ]
  },
  {
   "cell_type": "markdown",
   "metadata": {},
   "source": [
    "### 問1-4 採点・講評"
   ]
  },
  {
   "cell_type": "markdown",
   "metadata": {},
   "source": []
  }
 ],
 "metadata": {
  "kernelspec": {
   "display_name": "Python 3",
   "language": "python",
   "name": "python3"
  },
  "language_info": {
   "codemirror_mode": {
    "name": "ipython",
    "version": 3
   },
   "file_extension": ".py",
   "mimetype": "text/x-python",
   "name": "python",
   "nbconvert_exporter": "python",
   "pygments_lexer": "ipython3",
   "version": "3.7.4"
  }
 },
 "nbformat": 4,
 "nbformat_minor": 2
}
