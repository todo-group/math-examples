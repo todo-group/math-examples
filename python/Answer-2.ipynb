{
 "cells": [
  {
   "cell_type": "code",
   "execution_count": 1,
   "metadata": {},
   "outputs": [],
   "source": [
    "%matplotlib inline\n",
    "import numpy\n",
    "import matplotlib.pyplot as pyplot\n",
    "from mpl_toolkits.mplot3d import Axes3D\n",
    "import sympy"
   ]
  },
  {
   "cell_type": "markdown",
   "metadata": {},
   "source": [
    "東京大学数理・データサイエンスコンソーシアム 社会人向け講座 2019年秋\n",
    "\n",
    "# 解析・線形代数入門 〜データサイエンスのための〜\n",
    "\n",
    "# レポート課題2"
   ]
  },
  {
   "cell_type": "markdown",
   "metadata": {},
   "source": [
    "解答者氏名: "
   ]
  },
  {
   "cell_type": "markdown",
   "metadata": {},
   "source": [
    "採点者氏名: "
   ]
  },
  {
   "cell_type": "markdown",
   "metadata": {},
   "source": [
    "* 以下のセルに解答・図を描くためのPythonスクリプト・プロットの結果を記入せよ。CodeセルやMarkdownセルは必要に応じて付け加えてもよい\n",
    "* 記入したノートブックは採点者に送ること。採点者は採点・講評を記入した後、ファイルを解答者に返却するとともに、 https://sendfile.s.u-tokyo.ac.jp/public/z2vwgASJYEUAbyMBhHdudlIXCEFbLheU-1NHaHTSlQIN にアップロードせよ。(課題ごとにアップロードURLは異なっているので注意)\n",
    "* アップロードするファイル名は「解答者氏名_採点者氏名.ipynb」、また氏名はフルネームとすること\n",
    "* 提出締切: 11月7日(木) 17:00\n",
    "* 質問や不明な点がある場合は、遠慮なく藤堂<[wistaria@phys.s.u-tokyo.ac.jp](mailto:wistaria@phys.s.u-tokyo.ac.jp)>まで"
   ]
  },
  {
   "cell_type": "markdown",
   "metadata": {},
   "source": [
    "---\n",
    "### 問2-1\n",
    "(a) $f(x,y) = x^3+2 x^2 y + 2 x y^2 + y^3$ について、偏微分 $f_x$ と $f_y$ を求めよ"
   ]
  },
  {
   "cell_type": "markdown",
   "metadata": {},
   "source": [
    "$f_x(x,y) = 3x^2 + 4xy + 2y^2$ <br>\n",
    "$f_y(x,y) = 2x^2 + 4xy + 3y^2$"
   ]
  },
  {
   "cell_type": "markdown",
   "metadata": {},
   "source": [
    "参考) sympyモジュールの利用"
   ]
  },
  {
   "cell_type": "code",
   "execution_count": 9,
   "metadata": {},
   "outputs": [],
   "source": [
    "def f(x,y):\n",
    "    return x**3 + 2 * x**2 * y + 2 * x * y**2 + y**3;\n",
    "x = sympy.Symbol('x');\n",
    "y = sympy.Symbol('y');"
   ]
  },
  {
   "cell_type": "code",
   "execution_count": 10,
   "metadata": {},
   "outputs": [
    {
     "data": {
      "text/latex": [
       "$\\displaystyle 3 x^{2} + 4 x y + 2 y^{2}$"
      ],
      "text/plain": [
       "3*x**2 + 4*x*y + 2*y**2"
      ]
     },
     "execution_count": 10,
     "metadata": {},
     "output_type": "execute_result"
    }
   ],
   "source": [
    "sympy.diff(f(x,y), x)"
   ]
  },
  {
   "cell_type": "code",
   "execution_count": 11,
   "metadata": {},
   "outputs": [
    {
     "data": {
      "text/latex": [
       "$\\displaystyle 2 x^{2} + 4 x y + 3 y^{2}$"
      ],
      "text/plain": [
       "2*x**2 + 4*x*y + 3*y**2"
      ]
     },
     "execution_count": 11,
     "metadata": {},
     "output_type": "execute_result"
    }
   ],
   "source": [
    "sympy.diff(f(x,y), y)"
   ]
  },
  {
   "cell_type": "markdown",
   "metadata": {},
   "source": [
    "(b) $f(x,y) = x/y$ と $x(t)=1-2t$, $y(t) = 1+t^2$ の合成関数 $F(t) = f(x(t), y(t))$ の $t$ に関する微分を計算せよ"
   ]
  },
  {
   "cell_type": "markdown",
   "metadata": {},
   "source": [
    "$f_x(x,y) = 1/y$, $f_y(x,y) = -x/y^2$, $dx(t)/dt = -2$, $dy(t)/dt = 2t$より<br>\n",
    "$\\displaystyle \\frac{dF}{dt}(t) = f_x \\frac{dx}{dt} + f_y \\frac{dy}{dt} = \\frac{1}{y} \\cdot (-2) - \\frac{x}{y^2} \\cdot 2 = -2\\frac{y+x}{y^2} = -2 \\frac{t^2-2t+2}{(t^2+1)^2}$"
   ]
  },
  {
   "cell_type": "code",
   "execution_count": 17,
   "metadata": {},
   "outputs": [
    {
     "data": {
      "text/latex": [
       "$\\displaystyle \\frac{2 \\left(t^{2} - t - 1\\right)}{t^{4} + 2 t^{2} + 1}$"
      ],
      "text/plain": [
       "2*(t**2 - t - 1)/(t**4 + 2*t**2 + 1)"
      ]
     },
     "execution_count": 17,
     "metadata": {},
     "output_type": "execute_result"
    }
   ],
   "source": [
    "def x(t):\n",
    "    return 1-2*t;\n",
    "def y(t):\n",
    "    return 1+t**2;\n",
    "t =  sympy.Symbol('t');\n",
    "sympy.simplify(sympy.diff(x(t)/y(t), t))"
   ]
  },
  {
   "cell_type": "code",
   "execution_count": null,
   "metadata": {},
   "outputs": [],
   "source": []
  },
  {
   "cell_type": "markdown",
   "metadata": {},
   "source": [
    "###  問2-1 採点・講評"
   ]
  },
  {
   "cell_type": "markdown",
   "metadata": {},
   "source": []
  },
  {
   "cell_type": "markdown",
   "metadata": {},
   "source": [
    "---\n",
    "### 問2-2\n",
    "関数 $f(x,y) = x^2+xy+y^2 - 4x - 2y$ の最小値を勾配降下法で数値的に求めよう<br>\n",
    "(a) $z=f(x,y)$を3Dプロットして、関数の概形を確かめよ"
   ]
  },
  {
   "cell_type": "code",
   "execution_count": null,
   "metadata": {},
   "outputs": [],
   "source": []
  },
  {
   "cell_type": "markdown",
   "metadata": {},
   "source": [
    "(b) 偏微分 $f_x$, $f_y$ を求めよ"
   ]
  },
  {
   "cell_type": "code",
   "execution_count": null,
   "metadata": {},
   "outputs": [],
   "source": []
  },
  {
   "cell_type": "markdown",
   "metadata": {},
   "source": [
    "(c) 初期条件を$(x,y)=(0,0)$とする。この点において、$f_x$と$f_y$の値を求め、$x \\leftarrow x - \\epsilon f_x$、$y \\leftarrow y - \\epsilon f_y$ により、新しい点$(x,y)$を求めよ。ただし、$\\epsilon=0.1$とする"
   ]
  },
  {
   "cell_type": "code",
   "execution_count": null,
   "metadata": {},
   "outputs": [],
   "source": []
  },
  {
   "cell_type": "markdown",
   "metadata": {},
   "source": [
    "(d) (b)を数十回くりかえし、収束先$(x^*, y^*)$を予測せよ"
   ]
  },
  {
   "cell_type": "code",
   "execution_count": null,
   "metadata": {},
   "outputs": [],
   "source": []
  },
  {
   "cell_type": "markdown",
   "metadata": {},
   "source": [
    "(e) $f_x(x^*,y^*) = f_y(x^*,y^*) = 0$ となっていることを確認せよ"
   ]
  },
  {
   "cell_type": "code",
   "execution_count": null,
   "metadata": {},
   "outputs": [],
   "source": []
  },
  {
   "cell_type": "markdown",
   "metadata": {},
   "source": [
    "(ヒント) Pythonで繰り返し処理を行うには for と range を使えばよい。例) $x$に1を10回足す"
   ]
  },
  {
   "cell_type": "code",
   "execution_count": null,
   "metadata": {},
   "outputs": [],
   "source": [
    "x = 0;\n",
    "for i in range(10):\n",
    "    x = x + 1;\n",
    "    print(x);"
   ]
  },
  {
   "cell_type": "markdown",
   "metadata": {},
   "source": [
    "### 問2-2 採点・講評"
   ]
  },
  {
   "cell_type": "markdown",
   "metadata": {},
   "source": []
  },
  {
   "cell_type": "markdown",
   "metadata": {},
   "source": [
    "---\n",
    "### 問2-3\n",
    "拘束条件 $g(x,y) = x^2 + y^2 = 1$ の下で目的関数 $f(x,y) = (x+y)^2$ の最大値を求めよ<br>\n",
    "(a) $g(x,y)$ の等高線を描き、$g(x,y) = 1$の曲線の形を確認せよ"
   ]
  },
  {
   "cell_type": "code",
   "execution_count": null,
   "metadata": {},
   "outputs": [],
   "source": []
  },
  {
   "cell_type": "markdown",
   "metadata": {},
   "source": [
    "(b) $f(x,y)$ の等高線を描け"
   ]
  },
  {
   "cell_type": "code",
   "execution_count": null,
   "metadata": {},
   "outputs": [],
   "source": []
  },
  {
   "cell_type": "markdown",
   "metadata": {},
   "source": [
    "(c) ラグランジュ未定乗数 $\\lambda$ を導入して、$F(x,y,\\lambda) = f(x,y) - \\lambda (g(x,y)-1)$ を定義し、連立方程式$F_x=0$, $F_y=0$, $F_\\lambda=0$を解け"
   ]
  },
  {
   "cell_type": "code",
   "execution_count": null,
   "metadata": {},
   "outputs": [],
   "source": []
  },
  {
   "cell_type": "markdown",
   "metadata": {},
   "source": [
    "(d) (c)の連立方程式には4つの解がある。それぞれの解について$f(x,y)$の値を確認し、$f(x,y)$の最大値と最大値を取る点$(x,y)$を求めよ"
   ]
  },
  {
   "cell_type": "markdown",
   "metadata": {},
   "source": [
    "### 問2-3 採点・講評"
   ]
  },
  {
   "cell_type": "markdown",
   "metadata": {},
   "source": []
  }
 ],
 "metadata": {
  "kernelspec": {
   "display_name": "Python 3",
   "language": "python",
   "name": "python3"
  },
  "language_info": {
   "codemirror_mode": {
    "name": "ipython",
    "version": 3
   },
   "file_extension": ".py",
   "mimetype": "text/x-python",
   "name": "python",
   "nbconvert_exporter": "python",
   "pygments_lexer": "ipython3",
   "version": "3.7.4"
  }
 },
 "nbformat": 4,
 "nbformat_minor": 2
}
