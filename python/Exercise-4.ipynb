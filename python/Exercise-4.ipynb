{
 "cells": [
  {
   "cell_type": "code",
   "execution_count": null,
   "metadata": {},
   "outputs": [],
   "source": [
    "%matplotlib inline\n",
    "import numpy\n",
    "import matplotlib.pyplot as pyplot\n",
    "from mpl_toolkits.mplot3d import Axes3D"
   ]
  },
  {
   "cell_type": "markdown",
   "metadata": {},
   "source": [
    "東京大学数理・データサイエンスコンソーシアム 社会人向け講座 2019年秋\n",
    "\n",
    "# 解析・線形代数入門 〜データサイエンスのための〜\n",
    "\n",
    "# レポート課題4"
   ]
  },
  {
   "cell_type": "markdown",
   "metadata": {},
   "source": [
    "解答者氏名: "
   ]
  },
  {
   "cell_type": "markdown",
   "metadata": {},
   "source": [
    "採点者氏名: "
   ]
  },
  {
   "cell_type": "markdown",
   "metadata": {},
   "source": [
    "* 以下のセルに解答・図を描くためのPythonスクリプト・プロットの結果を記入せよ。CodeセルやMarkdownセルは必要に応じて付け加えてもよい\n",
    "* 記入したノートブックは採点者に送ること。採点者は採点・講評を記入した後、ファイルを解答者に返却するとともに、 https://sendfile.s.u-tokyo.ac.jp/public/s21wgAlJLcUA4tkBNURuCfFlVm5VpoPNqdcZ_mqC4GmC にアップロードせよ。(課題ごとにアップロードURLは異なっているので注意)\n",
    "* アップロードするファイル名は「解答者氏名_採点者氏名.ipynb」、また氏名はフルネームとすること\n",
    "* 提出締切: 11月21日(木) 17:00\n",
    "* 質問や不明な点がある場合は、遠慮なく藤堂<[wistaria@phys.s.u-tokyo.ac.jp](mailto:wistaria@phys.s.u-tokyo.ac.jp)>まで"
   ]
  },
  {
   "cell_type": "markdown",
   "metadata": {},
   "source": [
    "---\n",
    "### 問4-1\n",
    "$\\displaystyle A = \\begin{bmatrix} 1 & 9 \\\\ 9 & 1 \\end{bmatrix}$について"
   ]
  },
  {
   "cell_type": "markdown",
   "metadata": {},
   "source": [
    "(a) 固有値$\\lambda_1, \\lambda_2$と対応する固有ベクトル$\\vec{v}_1, \\vec{v}_2$を求めよ"
   ]
  },
  {
   "cell_type": "code",
   "execution_count": null,
   "metadata": {},
   "outputs": [],
   "source": []
  },
  {
   "cell_type": "markdown",
   "metadata": {},
   "source": [
    "(b) 2つの固有ベクトルの内積$\\vec{v}_1 \\cdot \\vec{v}_2 = {}^t\\vec{v}_1 \\vec{v}_2$が零であることを確認せよ。(対称行列の場合、相異なる固有値に対応する固有ベクトルは互いに直交する。一般の行列の場合には直交しないことに注意)"
   ]
  },
  {
   "cell_type": "code",
   "execution_count": null,
   "metadata": {},
   "outputs": [],
   "source": []
  },
  {
   "cell_type": "markdown",
   "metadata": {},
   "source": [
    "(c) 長さが1 (${}^t\\vec{v} \\vec{v} = 1$)になるように定数で割って「規格化」した固有ベクトルを並べたものを$P$とすると、${}^tPP=E$、すなわち$P$は直交行列となることを示せ"
   ]
  },
  {
   "cell_type": "code",
   "execution_count": null,
   "metadata": {},
   "outputs": [],
   "source": []
  },
  {
   "cell_type": "markdown",
   "metadata": {},
   "source": [
    "(d) 行列$A$による線形変換はどのような変換か、固有値と固有ベクトルをもとに予想せよ。Pythonでグラフを描き、その予想を確認せよ"
   ]
  },
  {
   "cell_type": "code",
   "execution_count": null,
   "metadata": {},
   "outputs": [],
   "source": []
  },
  {
   "cell_type": "markdown",
   "metadata": {},
   "source": [
    "### 問4-1 採点・講評"
   ]
  },
  {
   "cell_type": "markdown",
   "metadata": {},
   "source": []
  },
  {
   "cell_type": "markdown",
   "metadata": {},
   "source": [
    "---\n",
    "### 問4-2\n",
    "行列$A=\\begin{bmatrix} 0.8 & 0.3 \\\\ 0.2 & 0.7 \\end{bmatrix}$について"
   ]
  },
  {
   "cell_type": "markdown",
   "metadata": {},
   "source": [
    "(a) 固有値と固有ベクトルを求めよ"
   ]
  },
  {
   "cell_type": "code",
   "execution_count": null,
   "metadata": {},
   "outputs": [],
   "source": []
  },
  {
   "cell_type": "markdown",
   "metadata": {},
   "source": [
    "(b) $A$が$A=PDP^{-1}$と対角化されているとき、$A^2 = PDP^{-1} PDP^{-1} = PD(P^{-1}P)DP^{-1} = PD^2P^{-1}$、$A^3 = PDP^{-1} PDP^{-1} PDP^{-1} = PD^3P^{-1}$が成り立つことを用いて、$A^n$ (ただし $n \\ge 1$)を求め、$\\lim_{n \\rightarrow \\infty} A^n$を予想せよ"
   ]
  },
  {
   "cell_type": "code",
   "execution_count": null,
   "metadata": {},
   "outputs": [],
   "source": []
  },
  {
   "cell_type": "markdown",
   "metadata": {},
   "source": [
    "(c) Pythonで$A^2, A^3, A^4, \\cdots$を計算し、(b)の予想を確認せよ"
   ]
  },
  {
   "cell_type": "code",
   "execution_count": null,
   "metadata": {},
   "outputs": [],
   "source": []
  },
  {
   "cell_type": "markdown",
   "metadata": {},
   "source": [
    "###  問4-2 採点・講評"
   ]
  },
  {
   "cell_type": "markdown",
   "metadata": {},
   "source": []
  },
  {
   "cell_type": "markdown",
   "metadata": {},
   "source": [
    "---\n",
    "### 問4-3\n",
    "2変数関数$f(x,y) = x^2+2xy+y^3$を考える"
   ]
  },
  {
   "cell_type": "markdown",
   "metadata": {},
   "source": [
    "(a) $f_x(x,y)=0, f_y(x,y)=0$から極値の候補となる点を求めよ(全部で2つある)"
   ]
  },
  {
   "cell_type": "code",
   "execution_count": null,
   "metadata": {},
   "outputs": [],
   "source": []
  },
  {
   "cell_type": "markdown",
   "metadata": {},
   "source": [
    "(b) それぞれの点における2階偏微分係数$f_{xx}, f_{xy}, f_{yx}, f_{yy}$の値を求めよ"
   ]
  },
  {
   "cell_type": "code",
   "execution_count": null,
   "metadata": {},
   "outputs": [],
   "source": []
  },
  {
   "cell_type": "markdown",
   "metadata": {},
   "source": [
    "(c) それぞれの点におけるヘッセ行列$H=\\begin{bmatrix} f_{xx} & f_{xy} \\\\ f_{yx} & f_{yy} \\end{bmatrix}$の固有値を求め、それぞれの点が極大値、極小値、鞍点のどれか判定せよ"
   ]
  },
  {
   "cell_type": "code",
   "execution_count": null,
   "metadata": {},
   "outputs": [],
   "source": []
  },
  {
   "cell_type": "markdown",
   "metadata": {},
   "source": [
    "### 問4-3 採点・講評"
   ]
  },
  {
   "cell_type": "markdown",
   "metadata": {},
   "source": []
  }
 ],
 "metadata": {
  "kernelspec": {
   "display_name": "Python 3",
   "language": "python",
   "name": "python3"
  },
  "language_info": {
   "codemirror_mode": {
    "name": "ipython",
    "version": 3
   },
   "file_extension": ".py",
   "mimetype": "text/x-python",
   "name": "python",
   "nbconvert_exporter": "python",
   "pygments_lexer": "ipython3",
   "version": "3.7.4"
  }
 },
 "nbformat": 4,
 "nbformat_minor": 2
}
